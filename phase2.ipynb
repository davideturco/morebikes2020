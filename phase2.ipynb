{
 "cells": [
  {
   "cell_type": "code",
   "execution_count": 21,
   "outputs": [],
   "source": [
    "import pandas as pd\n",
    "from pre_processing import *\n",
    "from sklearn.metrics import mean_absolute_error\n",
    "import glob\n",
    "from statistics import mean"
   ],
   "metadata": {
    "collapsed": false,
    "pycharm": {
     "name": "#%%\n"
    }
   }
  },
  {
   "cell_type": "code",
   "execution_count": 18,
   "outputs": [],
   "source": [
    "PATH = './Train/Train'\n",
    "\n",
    "df = load_general(PATH)\n",
    "df = drop_nan_bikes(df)\n",
    "df = pd.get_dummies(df,columns=['weekday'])\n",
    "df = nan_impute(df)"
   ],
   "metadata": {
    "collapsed": false,
    "pycharm": {
     "name": "#%%\n"
    }
   }
  },
  {
   "cell_type": "code",
   "execution_count": 20,
   "outputs": [],
   "source": [
    "X = df.loc[:, df.columns != 'bikes']\n",
    "Y = df['bikes']"
   ],
   "metadata": {
    "collapsed": false,
    "pycharm": {
     "name": "#%%\n"
    }
   }
  },
  {
   "cell_type": "code",
   "execution_count": 24,
   "outputs": [
    {
     "name": "stdout",
     "output_type": "stream",
     "text": [
      "2.8339698028673834\n",
      "3.237688172043011\n"
     ]
    }
   ],
   "source": [
    "def linear_regression(row):\n",
    "    return intercept + row['bikes_3h_ago']*weights[1] +\\\n",
    "                    row['full_profile_bikes']*weights[2] +\\\n",
    "                    row['full_profile_3h_diff_bikes']*weights[3]\n",
    "\n",
    "scores = []\n",
    "for file in glob.glob('Models/Models/model_station_*_rlm_full.csv'):\n",
    "    model = pd.read_csv(file)\n",
    "    features = model['feature']\n",
    "    #weights\n",
    "    intercept = model['weight'].values[0]\n",
    "    weights = model['weight'][1:]\n",
    "    features_used = features.values[1:]\n",
    "    X = X.filter(items=features_used)\n",
    "    predictions = X.apply(func=linear_regression, axis=1).astype('int32')\n",
    "    scores.append(mean_absolute_error(predictions,Y))\n",
    "\n",
    "    X = df.loc[:, df.columns != 'bikes']\n",
    "\n",
    "print(mean(scores))\n",
    "print(max(scores))"
   ],
   "metadata": {
    "collapsed": false,
    "pycharm": {
     "name": "#%%\n"
    }
   }
  },
  {
   "cell_type": "code",
   "execution_count": 25,
   "outputs": [
    {
     "data": {
      "text/plain": "2.743637992831541"
     },
     "execution_count": 25,
     "metadata": {},
     "output_type": "execute_result"
    }
   ],
   "source": [
    "min(scores)"
   ],
   "metadata": {
    "collapsed": false,
    "pycharm": {
     "name": "#%%\n"
    }
   }
  },
  {
   "cell_type": "code",
   "execution_count": 40,
   "outputs": [],
   "source": [
    "\n",
    "# Features\n",
    "features = model['feature']\n",
    "#weights\n",
    "intercept = model['weight'].values[0]\n",
    "weights = model['weight'][1:]"
   ],
   "metadata": {
    "collapsed": false,
    "pycharm": {
     "name": "#%%\n"
    }
   }
  },
  {
   "cell_type": "code",
   "execution_count": 41,
   "outputs": [
    {
     "data": {
      "text/plain": "0.240571911655513"
     },
     "execution_count": 41,
     "metadata": {},
     "output_type": "execute_result"
    }
   ],
   "source": [
    "intercept"
   ],
   "metadata": {
    "collapsed": false,
    "pycharm": {
     "name": "#%%\n"
    }
   }
  },
  {
   "cell_type": "code",
   "execution_count": 42,
   "outputs": [],
   "source": [
    "# names of the features which are used (for later)\n",
    "features_used = features.values[1:]"
   ],
   "metadata": {
    "collapsed": false,
    "pycharm": {
     "name": "#%%\n"
    }
   }
  },
  {
   "cell_type": "code",
   "execution_count": 43,
   "outputs": [],
   "source": [
    "data = pd.read_csv('Train/Train/station_201_deploy.csv')\n",
    "data = pd.get_dummies(data,columns=['weekday'])\n",
    "data = nan_impute(data)"
   ],
   "metadata": {
    "collapsed": false,
    "pycharm": {
     "name": "#%%\n"
    }
   }
  },
  {
   "cell_type": "code",
   "execution_count": 44,
   "outputs": [],
   "source": [
    "X = data.loc[:, data.columns != 'bikes']\n",
    "Y = data['bikes']"
   ],
   "metadata": {
    "collapsed": false,
    "pycharm": {
     "name": "#%%\n"
    }
   }
  },
  {
   "cell_type": "code",
   "execution_count": 45,
   "outputs": [
    {
     "data": {
      "text/plain": "     bikes_3h_ago  full_profile_bikes  full_profile_3h_diff_bikes\n0        0.305009            0.202367                   -0.202326\n1        0.344790            0.202381                   -0.202339\n2        0.437945            0.202395                   -0.202353\n3        1.000000            0.202410                   -0.202367\n4        0.000000            0.202424                   -0.202381\n..            ...                 ...                         ...\n740      1.000000            2.500000                    2.000000\n741      1.000000            3.250000                    3.000000\n742      1.000000            2.750000                    2.250000\n743      0.000000            5.750000                    3.250000\n744      2.000000           10.750000                    7.500000\n\n[745 rows x 3 columns]",
      "text/html": "<div>\n<style scoped>\n    .dataframe tbody tr th:only-of-type {\n        vertical-align: middle;\n    }\n\n    .dataframe tbody tr th {\n        vertical-align: top;\n    }\n\n    .dataframe thead th {\n        text-align: right;\n    }\n</style>\n<table border=\"1\" class=\"dataframe\">\n  <thead>\n    <tr style=\"text-align: right;\">\n      <th></th>\n      <th>bikes_3h_ago</th>\n      <th>full_profile_bikes</th>\n      <th>full_profile_3h_diff_bikes</th>\n    </tr>\n  </thead>\n  <tbody>\n    <tr>\n      <th>0</th>\n      <td>0.305009</td>\n      <td>0.202367</td>\n      <td>-0.202326</td>\n    </tr>\n    <tr>\n      <th>1</th>\n      <td>0.344790</td>\n      <td>0.202381</td>\n      <td>-0.202339</td>\n    </tr>\n    <tr>\n      <th>2</th>\n      <td>0.437945</td>\n      <td>0.202395</td>\n      <td>-0.202353</td>\n    </tr>\n    <tr>\n      <th>3</th>\n      <td>1.000000</td>\n      <td>0.202410</td>\n      <td>-0.202367</td>\n    </tr>\n    <tr>\n      <th>4</th>\n      <td>0.000000</td>\n      <td>0.202424</td>\n      <td>-0.202381</td>\n    </tr>\n    <tr>\n      <th>...</th>\n      <td>...</td>\n      <td>...</td>\n      <td>...</td>\n    </tr>\n    <tr>\n      <th>740</th>\n      <td>1.000000</td>\n      <td>2.500000</td>\n      <td>2.000000</td>\n    </tr>\n    <tr>\n      <th>741</th>\n      <td>1.000000</td>\n      <td>3.250000</td>\n      <td>3.000000</td>\n    </tr>\n    <tr>\n      <th>742</th>\n      <td>1.000000</td>\n      <td>2.750000</td>\n      <td>2.250000</td>\n    </tr>\n    <tr>\n      <th>743</th>\n      <td>0.000000</td>\n      <td>5.750000</td>\n      <td>3.250000</td>\n    </tr>\n    <tr>\n      <th>744</th>\n      <td>2.000000</td>\n      <td>10.750000</td>\n      <td>7.500000</td>\n    </tr>\n  </tbody>\n</table>\n<p>745 rows × 3 columns</p>\n</div>"
     },
     "execution_count": 45,
     "metadata": {},
     "output_type": "execute_result"
    }
   ],
   "source": [
    "#keep only the features which are used in the model\n",
    "X = X.filter(items=features_used)\n",
    "X"
   ],
   "metadata": {
    "collapsed": false,
    "pycharm": {
     "name": "#%%\n"
    }
   }
  },
  {
   "cell_type": "code",
   "execution_count": 47,
   "outputs": [],
   "source": [
    "def linear_regression(row):\n",
    "    return intercept + row['bikes_3h_ago']*weights[1] +\\\n",
    "                    row['full_profile_bikes']*weights[2] +\\\n",
    "                    row['full_profile_3h_diff_bikes']*weights[3]\n",
    "\n",
    "X = X.apply(func=linear_regression, axis=1).astype('int32')"
   ],
   "metadata": {
    "collapsed": false,
    "pycharm": {
     "name": "#%%\n"
    }
   }
  },
  {
   "cell_type": "code",
   "execution_count": 48,
   "outputs": [
    {
     "data": {
      "text/plain": "2.7704026844279066"
     },
     "execution_count": 48,
     "metadata": {},
     "output_type": "execute_result"
    }
   ],
   "source": [
    "mean_absolute_error(X,Y)"
   ],
   "metadata": {
    "collapsed": false,
    "pycharm": {
     "name": "#%%\n"
    }
   }
  },
  {
   "cell_type": "code",
   "execution_count": 49,
   "outputs": [
    {
     "data": {
      "text/plain": "0      0\n1      0\n2      0\n3      0\n4      0\n      ..\n740    2\n741    3\n742    2\n743    3\n744    7\nLength: 745, dtype: int32"
     },
     "execution_count": 49,
     "metadata": {},
     "output_type": "execute_result"
    }
   ],
   "source": [
    "X"
   ],
   "metadata": {
    "collapsed": false,
    "pycharm": {
     "name": "#%%\n"
    }
   }
  },
  {
   "cell_type": "code",
   "execution_count": 50,
   "outputs": [
    {
     "data": {
      "text/plain": "0       1.0\n1       0.0\n2       0.0\n3       0.0\n4       0.0\n       ... \n740     0.0\n741     2.0\n742     7.0\n743     9.0\n744    14.0\nName: bikes, Length: 745, dtype: float64"
     },
     "execution_count": 50,
     "metadata": {},
     "output_type": "execute_result"
    }
   ],
   "source": [
    "Y"
   ],
   "metadata": {
    "collapsed": false,
    "pycharm": {
     "name": "#%%\n"
    }
   }
  },
  {
   "cell_type": "code",
   "execution_count": 14,
   "outputs": [
    {
     "name": "stdout",
     "output_type": "stream",
     "text": [
      "Models/Models/model_station_51_rlm_full.csv\n",
      "Models/Models/model_station_123_rlm_full.csv\n",
      "Models/Models/model_station_99_rlm_full.csv\n",
      "Models/Models/model_station_89_rlm_full.csv\n",
      "Models/Models/model_station_156_rlm_full.csv\n",
      "Models/Models/model_station_102_rlm_full.csv\n",
      "Models/Models/model_station_39_rlm_full.csv\n",
      "Models/Models/model_station_187_rlm_full.csv\n",
      "Models/Models/model_station_186_rlm_full.csv\n",
      "Models/Models/model_station_129_rlm_full.csv\n",
      "Models/Models/model_station_173_rlm_full.csv\n",
      "Models/Models/model_station_94_rlm_full.csv\n",
      "Models/Models/model_station_122_rlm_full.csv\n",
      "Models/Models/model_station_116_rlm_full.csv\n",
      "Models/Models/model_station_138_rlm_full.csv\n",
      "Models/Models/model_station_106_rlm_full.csv\n",
      "Models/Models/model_station_100_rlm_full.csv\n",
      "Models/Models/model_station_80_rlm_full.csv\n",
      "Models/Models/model_station_121_rlm_full.csv\n",
      "Models/Models/model_station_32_rlm_full.csv\n",
      "Models/Models/model_station_26_rlm_full.csv\n",
      "Models/Models/model_station_189_rlm_full.csv\n",
      "Models/Models/model_station_150_rlm_full.csv\n",
      "Models/Models/model_station_146_rlm_full.csv\n",
      "Models/Models/model_station_27_rlm_full.csv\n",
      "Models/Models/model_station_41_rlm_full.csv\n",
      "Models/Models/model_station_20_rlm_full.csv\n",
      "Models/Models/model_station_64_rlm_full.csv\n",
      "Models/Models/model_station_105_rlm_full.csv\n",
      "Models/Models/model_station_117_rlm_full.csv\n",
      "Models/Models/model_station_45_rlm_full.csv\n",
      "Models/Models/model_station_142_rlm_full.csv\n",
      "Models/Models/model_station_144_rlm_full.csv\n",
      "Models/Models/model_station_56_rlm_full.csv\n",
      "Models/Models/model_station_60_rlm_full.csv\n",
      "Models/Models/model_station_47_rlm_full.csv\n",
      "Models/Models/model_station_58_rlm_full.csv\n",
      "Models/Models/model_station_38_rlm_full.csv\n",
      "Models/Models/model_station_120_rlm_full.csv\n",
      "Models/Models/model_station_68_rlm_full.csv\n",
      "Models/Models/model_station_82_rlm_full.csv\n",
      "Models/Models/model_station_88_rlm_full.csv\n",
      "Models/Models/model_station_125_rlm_full.csv\n",
      "Models/Models/model_station_16_rlm_full.csv\n",
      "Models/Models/model_station_110_rlm_full.csv\n",
      "Models/Models/model_station_113_rlm_full.csv\n",
      "Models/Models/model_station_55_rlm_full.csv\n",
      "Models/Models/model_station_28_rlm_full.csv\n",
      "Models/Models/model_station_46_rlm_full.csv\n",
      "Models/Models/model_station_91_rlm_full.csv\n",
      "Models/Models/model_station_188_rlm_full.csv\n",
      "Models/Models/model_station_157_rlm_full.csv\n",
      "Models/Models/model_station_115_rlm_full.csv\n",
      "Models/Models/model_station_199_rlm_full.csv\n",
      "Models/Models/model_station_14_rlm_full.csv\n",
      "Models/Models/model_station_15_rlm_full.csv\n",
      "Models/Models/model_station_136_rlm_full.csv\n",
      "Models/Models/model_station_78_rlm_full.csv\n",
      "Models/Models/model_station_40_rlm_full.csv\n",
      "Models/Models/model_station_37_rlm_full.csv\n",
      "Models/Models/model_station_197_rlm_full.csv\n",
      "Models/Models/model_station_154_rlm_full.csv\n",
      "Models/Models/model_station_195_rlm_full.csv\n",
      "Models/Models/model_station_10_rlm_full.csv\n",
      "Models/Models/model_station_24_rlm_full.csv\n",
      "Models/Models/model_station_134_rlm_full.csv\n",
      "Models/Models/model_station_77_rlm_full.csv\n",
      "Models/Models/model_station_143_rlm_full.csv\n",
      "Models/Models/model_station_159_rlm_full.csv\n",
      "Models/Models/model_station_111_rlm_full.csv\n",
      "Models/Models/model_station_158_rlm_full.csv\n",
      "Models/Models/model_station_200_rlm_full.csv\n",
      "Models/Models/model_station_4_rlm_full.csv\n",
      "Models/Models/model_station_83_rlm_full.csv\n",
      "Models/Models/model_station_50_rlm_full.csv\n",
      "Models/Models/model_station_198_rlm_full.csv\n",
      "Models/Models/model_station_23_rlm_full.csv\n",
      "Models/Models/model_station_33_rlm_full.csv\n",
      "Models/Models/model_station_52_rlm_full.csv\n",
      "Models/Models/model_station_59_rlm_full.csv\n",
      "Models/Models/model_station_67_rlm_full.csv\n",
      "Models/Models/model_station_149_rlm_full.csv\n",
      "Models/Models/model_station_152_rlm_full.csv\n",
      "Models/Models/model_station_167_rlm_full.csv\n",
      "Models/Models/model_station_130_rlm_full.csv\n",
      "Models/Models/model_station_71_rlm_full.csv\n",
      "Models/Models/model_station_184_rlm_full.csv\n",
      "Models/Models/model_station_84_rlm_full.csv\n",
      "Models/Models/model_station_86_rlm_full.csv\n",
      "Models/Models/model_station_87_rlm_full.csv\n",
      "Models/Models/model_station_43_rlm_full.csv\n",
      "Models/Models/model_station_137_rlm_full.csv\n",
      "Models/Models/model_station_166_rlm_full.csv\n",
      "Models/Models/model_station_128_rlm_full.csv\n",
      "Models/Models/model_station_185_rlm_full.csv\n",
      "Models/Models/model_station_114_rlm_full.csv\n",
      "Models/Models/model_station_62_rlm_full.csv\n",
      "Models/Models/model_station_174_rlm_full.csv\n",
      "Models/Models/model_station_124_rlm_full.csv\n",
      "Models/Models/model_station_170_rlm_full.csv\n",
      "Models/Models/model_station_3_rlm_full.csv\n",
      "Models/Models/model_station_5_rlm_full.csv\n",
      "Models/Models/model_station_168_rlm_full.csv\n",
      "Models/Models/model_station_192_rlm_full.csv\n",
      "Models/Models/model_station_76_rlm_full.csv\n",
      "Models/Models/model_station_74_rlm_full.csv\n",
      "Models/Models/model_station_57_rlm_full.csv\n",
      "Models/Models/model_station_171_rlm_full.csv\n",
      "Models/Models/model_station_11_rlm_full.csv\n",
      "Models/Models/model_station_69_rlm_full.csv\n",
      "Models/Models/model_station_96_rlm_full.csv\n",
      "Models/Models/model_station_30_rlm_full.csv\n",
      "Models/Models/model_station_90_rlm_full.csv\n",
      "Models/Models/model_station_147_rlm_full.csv\n",
      "Models/Models/model_station_73_rlm_full.csv\n",
      "Models/Models/model_station_44_rlm_full.csv\n",
      "Models/Models/model_station_160_rlm_full.csv\n",
      "Models/Models/model_station_72_rlm_full.csv\n",
      "Models/Models/model_station_182_rlm_full.csv\n",
      "Models/Models/model_station_183_rlm_full.csv\n",
      "Models/Models/model_station_193_rlm_full.csv\n",
      "Models/Models/model_station_109_rlm_full.csv\n",
      "Models/Models/model_station_49_rlm_full.csv\n",
      "Models/Models/model_station_8_rlm_full.csv\n",
      "Models/Models/model_station_177_rlm_full.csv\n",
      "Models/Models/model_station_66_rlm_full.csv\n",
      "Models/Models/model_station_34_rlm_full.csv\n",
      "Models/Models/model_station_135_rlm_full.csv\n",
      "Models/Models/model_station_178_rlm_full.csv\n",
      "Models/Models/model_station_53_rlm_full.csv\n",
      "Models/Models/model_station_148_rlm_full.csv\n",
      "Models/Models/model_station_153_rlm_full.csv\n",
      "Models/Models/model_station_18_rlm_full.csv\n",
      "Models/Models/model_station_108_rlm_full.csv\n",
      "Models/Models/model_station_107_rlm_full.csv\n",
      "Models/Models/model_station_180_rlm_full.csv\n",
      "Models/Models/model_station_70_rlm_full.csv\n",
      "Models/Models/model_station_176_rlm_full.csv\n",
      "Models/Models/model_station_132_rlm_full.csv\n",
      "Models/Models/model_station_81_rlm_full.csv\n",
      "Models/Models/model_station_36_rlm_full.csv\n",
      "Models/Models/model_station_162_rlm_full.csv\n",
      "Models/Models/model_station_98_rlm_full.csv\n",
      "Models/Models/model_station_29_rlm_full.csv\n",
      "Models/Models/model_station_22_rlm_full.csv\n",
      "Models/Models/model_station_75_rlm_full.csv\n",
      "Models/Models/model_station_194_rlm_full.csv\n",
      "Models/Models/model_station_63_rlm_full.csv\n",
      "Models/Models/model_station_65_rlm_full.csv\n",
      "Models/Models/model_station_61_rlm_full.csv\n",
      "Models/Models/model_station_151_rlm_full.csv\n",
      "Models/Models/model_station_190_rlm_full.csv\n",
      "Models/Models/model_station_42_rlm_full.csv\n",
      "Models/Models/model_station_93_rlm_full.csv\n",
      "Models/Models/model_station_101_rlm_full.csv\n",
      "Models/Models/model_station_145_rlm_full.csv\n",
      "Models/Models/model_station_7_rlm_full.csv\n",
      "Models/Models/model_station_169_rlm_full.csv\n",
      "Models/Models/model_station_191_rlm_full.csv\n",
      "Models/Models/model_station_196_rlm_full.csv\n",
      "Models/Models/model_station_181_rlm_full.csv\n",
      "Models/Models/model_station_175_rlm_full.csv\n",
      "Models/Models/model_station_2_rlm_full.csv\n",
      "Models/Models/model_station_133_rlm_full.csv\n",
      "Models/Models/model_station_103_rlm_full.csv\n",
      "Models/Models/model_station_161_rlm_full.csv\n",
      "Models/Models/model_station_141_rlm_full.csv\n",
      "Models/Models/model_station_165_rlm_full.csv\n",
      "Models/Models/model_station_9_rlm_full.csv\n",
      "Models/Models/model_station_48_rlm_full.csv\n",
      "Models/Models/model_station_31_rlm_full.csv\n",
      "Models/Models/model_station_92_rlm_full.csv\n",
      "Models/Models/model_station_79_rlm_full.csv\n",
      "Models/Models/model_station_139_rlm_full.csv\n",
      "Models/Models/model_station_179_rlm_full.csv\n",
      "Models/Models/model_station_95_rlm_full.csv\n",
      "Models/Models/model_station_119_rlm_full.csv\n",
      "Models/Models/model_station_164_rlm_full.csv\n",
      "Models/Models/model_station_35_rlm_full.csv\n",
      "Models/Models/model_station_118_rlm_full.csv\n",
      "Models/Models/model_station_163_rlm_full.csv\n",
      "Models/Models/model_station_97_rlm_full.csv\n",
      "Models/Models/model_station_25_rlm_full.csv\n",
      "Models/Models/model_station_112_rlm_full.csv\n",
      "Models/Models/model_station_54_rlm_full.csv\n",
      "Models/Models/model_station_140_rlm_full.csv\n",
      "Models/Models/model_station_131_rlm_full.csv\n",
      "Models/Models/model_station_21_rlm_full.csv\n",
      "Models/Models/model_station_17_rlm_full.csv\n",
      "Models/Models/model_station_12_rlm_full.csv\n",
      "Models/Models/model_station_1_rlm_full.csv\n",
      "Models/Models/model_station_85_rlm_full.csv\n",
      "Models/Models/model_station_19_rlm_full.csv\n",
      "Models/Models/model_station_155_rlm_full.csv\n",
      "Models/Models/model_station_172_rlm_full.csv\n",
      "Models/Models/model_station_104_rlm_full.csv\n",
      "Models/Models/model_station_6_rlm_full.csv\n",
      "Models/Models/model_station_13_rlm_full.csv\n",
      "Models/Models/model_station_126_rlm_full.csv\n",
      "Models/Models/model_station_127_rlm_full.csv\n"
     ]
    }
   ],
   "source": [
    "for name in glob.glob('Models/Models/model_station_*_rlm_full.csv'):\n",
    "    print(name)"
   ],
   "metadata": {
    "collapsed": false,
    "pycharm": {
     "name": "#%%\n"
    }
   }
  },
  {
   "cell_type": "code",
   "execution_count": 12,
   "outputs": [
    {
     "data": {
      "text/plain": "['Models/Models/model_station_4_rlm_full.csv',\n 'Models/Models/model_station_3_rlm_full.csv',\n 'Models/Models/model_station_5_rlm_full.csv',\n 'Models/Models/model_station_8_rlm_full.csv',\n 'Models/Models/model_station_7_rlm_full.csv',\n 'Models/Models/model_station_2_rlm_full.csv',\n 'Models/Models/model_station_9_rlm_full.csv',\n 'Models/Models/model_station_1_rlm_full.csv',\n 'Models/Models/model_station_6_rlm_full.csv']"
     },
     "execution_count": 12,
     "metadata": {},
     "output_type": "execute_result"
    }
   ],
   "source": [],
   "metadata": {
    "collapsed": false,
    "pycharm": {
     "name": "#%%\n"
    }
   }
  },
  {
   "cell_type": "code",
   "execution_count": null,
   "outputs": [],
   "source": [],
   "metadata": {
    "collapsed": false,
    "pycharm": {
     "name": "#%%\n"
    }
   }
  }
 ],
 "metadata": {
  "kernelspec": {
   "display_name": "Python 3",
   "language": "python",
   "name": "python3"
  },
  "language_info": {
   "codemirror_mode": {
    "name": "ipython",
    "version": 2
   },
   "file_extension": ".py",
   "mimetype": "text/x-python",
   "name": "python",
   "nbconvert_exporter": "python",
   "pygments_lexer": "ipython2",
   "version": "2.7.6"
  }
 },
 "nbformat": 4,
 "nbformat_minor": 0
}