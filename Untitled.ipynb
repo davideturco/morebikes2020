{
 "cells": [
  {
   "cell_type": "code",
   "execution_count": 1,
   "metadata": {
    "pycharm": {
     "name": "#%%\n"
    }
   },
   "outputs": [],
   "source": [
    "from statistics import mean\n",
    "import matplotlib.pyplot as plt\n",
    "import glob\n",
    "from pandas.plotting import scatter_matrix\n",
    "from sklearn import linear_model\n",
    "from sklearn.model_selection import train_test_split\n",
    "from sklearn.ensemble import RandomForestRegressor\n",
    "\n",
    "from pre_processing import *\n",
    "import seaborn as sns\n",
    "\n",
    "#pd.set_option(\"display.max_rows\", None, \"display.max_columns\", None)"
   ]
  },
  {
   "cell_type": "code",
   "execution_count": 2,
   "metadata": {},
   "outputs": [
    {
     "name": "stdout",
     "output_type": "stream",
     "text": [
      "(2014, 10, 26, 1, 0)\n",
      "(2014, 10, 26, 1, 0)\n",
      "(2014, 10, 26, 1, 0)\n",
      "(2014, 10, 26, 1, 0)\n",
      "(2014, 10, 26, 1, 0)\n",
      "(2014, 10, 26, 1, 0)\n",
      "(2014, 10, 26, 1, 0)\n",
      "(2014, 10, 26, 1, 0)\n",
      "(2014, 10, 26, 1, 0)\n",
      "(2014, 10, 26, 1, 0)\n",
      "(2014, 10, 26, 1, 0)\n",
      "(2014, 10, 26, 1, 0)\n",
      "(2014, 10, 26, 1, 0)\n",
      "(2014, 10, 26, 1, 0)\n",
      "(2014, 10, 26, 1, 0)\n",
      "(2014, 10, 26, 1, 0)\n",
      "(2014, 10, 26, 1, 0)\n",
      "(2014, 10, 26, 1, 0)\n",
      "(2014, 10, 26, 1, 0)\n",
      "(2014, 10, 26, 1, 0)\n",
      "(2014, 10, 26, 1, 0)\n",
      "(2014, 10, 26, 1, 0)\n",
      "(2014, 10, 26, 1, 0)\n",
      "(2014, 10, 26, 1, 0)\n",
      "(2014, 10, 26, 1, 0)\n",
      "(2014, 10, 26, 1, 0)\n",
      "(2014, 10, 26, 1, 0)\n",
      "(2014, 10, 26, 1, 0)\n",
      "(2014, 10, 26, 1, 0)\n",
      "(2014, 10, 26, 1, 0)\n",
      "(2014, 10, 26, 1, 0)\n",
      "(2014, 10, 26, 1, 0)\n",
      "(2014, 10, 26, 1, 0)\n",
      "(2014, 10, 26, 1, 0)\n",
      "(2014, 10, 26, 1, 0)\n",
      "(2014, 10, 26, 1, 0)\n",
      "(2014, 10, 26, 1, 0)\n",
      "(2014, 10, 26, 1, 0)\n",
      "(2014, 10, 26, 1, 0)\n",
      "(2014, 10, 26, 1, 0)\n",
      "(2014, 10, 26, 1, 0)\n",
      "(2014, 10, 26, 1, 0)\n",
      "(2014, 10, 26, 1, 0)\n",
      "(2014, 10, 26, 1, 0)\n",
      "(2014, 10, 26, 1, 0)\n",
      "(2014, 10, 26, 1, 0)\n",
      "(2014, 10, 26, 1, 0)\n",
      "(2014, 10, 26, 1, 0)\n",
      "(2014, 10, 26, 1, 0)\n",
      "(2014, 10, 26, 1, 0)\n",
      "(2014, 10, 26, 1, 0)\n",
      "(2014, 10, 26, 1, 0)\n",
      "(2014, 10, 26, 1, 0)\n",
      "(2014, 10, 26, 1, 0)\n",
      "(2014, 10, 26, 1, 0)\n",
      "(2014, 10, 26, 1, 0)\n",
      "(2014, 10, 26, 1, 0)\n",
      "(2014, 10, 26, 1, 0)\n",
      "(2014, 10, 26, 1, 0)\n",
      "(2014, 10, 26, 1, 0)\n",
      "(2014, 10, 26, 1, 0)\n",
      "(2014, 10, 26, 1, 0)\n",
      "(2014, 10, 26, 1, 0)\n",
      "(2014, 10, 26, 1, 0)\n",
      "(2014, 10, 26, 1, 0)\n",
      "(2014, 10, 26, 1, 0)\n",
      "(2014, 10, 26, 1, 0)\n",
      "(2014, 10, 26, 1, 0)\n",
      "(2014, 10, 26, 1, 0)\n",
      "(2014, 10, 26, 1, 0)\n",
      "(2014, 10, 26, 1, 0)\n",
      "(2014, 10, 26, 1, 0)\n",
      "(2014, 10, 26, 1, 0)\n",
      "(2014, 10, 26, 1, 0)\n",
      "(2014, 10, 26, 1, 0)\n"
     ]
    }
   ],
   "source": [
    "#store the csv of the stations into a list of dataframes\n",
    "\n",
    "PATH = './Train/Train/*.csv'\n",
    "\n",
    "df = []\n",
    "\n",
    "for i, file  in enumerate(glob.glob(PATH)):\n",
    "    df.append(pd.read_csv(file))\n",
    "    #print(df[i][df[i]['bikes'].isnull()].timestamp)\n",
    "    print(get_time(float(df[i][df[i]['bikes'].isnull()].timestamp)))\n",
    "    #print(get_time(1414285200))\n",
    "    #print(has_nan(df[i].loc[:,['bikes']]))\n",
    "\n",
    "\n",
    "    # #replaces days with numbers\n",
    "    # day_transform(df[i])\n",
    "    #\n",
    "    # #replaces NaN with median\n",
    "    # df[i] = nan_imputer(df[i])\n",
    "    #\n",
    "    # #removes features with zero variance\n",
    "    # df[i] = var_transform(df[i])\n",
    "\n",
    "#df[1][df[1]['bikes'].isnull()].timestamp\n",
    "#has_nan(df[0].loc[:,['bikes']])"
   ]
  },
  {
   "cell_type": "code",
   "execution_count": null,
   "outputs": [],
   "source": [
    "    #find which feature has highest correlation with bikes\n",
    "for i in range(len(df)):\n",
    "    corr_matrix = correl(df[i])\n",
    "    print(corr_matrix['bikes'].sort_values(ascending=False).head(5))\n",
    "#apparently no feature has high correlation"
   ],
   "metadata": {
    "collapsed": false,
    "pycharm": {
     "name": "#%%\n"
    }
   }
  },
  {
   "cell_type": "code",
   "execution_count": 5,
   "metadata": {
    "pycharm": {
     "name": "#%%\n"
    }
   },
   "outputs": [
    {
     "name": "stdout",
     "output_type": "stream",
     "text": [
      "['day', 'weekhour', 'windMeanSpeed.m.s', 'short_profile_3h_diff_bikes', 'short_profile_bikes']\n",
      "['day', 'weekhour', 'windMeanSpeed.m.s', 'short_profile_3h_diff_bikes', 'short_profile_bikes']\n",
      "['day', 'weekhour', 'windMeanSpeed.m.s', 'short_profile_3h_diff_bikes', 'short_profile_bikes']\n",
      "['day', 'weekhour', 'windMeanSpeed.m.s', 'short_profile_3h_diff_bikes', 'short_profile_bikes']\n",
      "['day', 'weekhour', 'windMeanSpeed.m.s', 'short_profile_3h_diff_bikes', 'short_profile_bikes']\n",
      "['day', 'weekhour', 'windMeanSpeed.m.s', 'short_profile_3h_diff_bikes', 'short_profile_bikes']\n",
      "['day', 'weekhour', 'windMeanSpeed.m.s', 'short_profile_3h_diff_bikes', 'short_profile_bikes']\n",
      "['day', 'weekhour', 'windMeanSpeed.m.s', 'short_profile_3h_diff_bikes', 'short_profile_bikes']\n",
      "['day', 'weekhour', 'windMeanSpeed.m.s', 'short_profile_3h_diff_bikes', 'short_profile_bikes']\n",
      "['day', 'weekhour', 'windMeanSpeed.m.s', 'short_profile_3h_diff_bikes', 'short_profile_bikes']\n",
      "['day', 'weekhour', 'windMeanSpeed.m.s', 'short_profile_3h_diff_bikes', 'short_profile_bikes']\n",
      "['day', 'weekhour', 'windMeanSpeed.m.s', 'short_profile_3h_diff_bikes', 'short_profile_bikes']\n",
      "['day', 'weekhour', 'windMeanSpeed.m.s', 'short_profile_3h_diff_bikes', 'short_profile_bikes']\n",
      "['day', 'weekhour', 'windMeanSpeed.m.s', 'short_profile_3h_diff_bikes', 'short_profile_bikes']\n",
      "['day', 'weekhour', 'windMeanSpeed.m.s', 'short_profile_3h_diff_bikes', 'short_profile_bikes']\n",
      "['day', 'weekhour', 'windMeanSpeed.m.s', 'short_profile_3h_diff_bikes', 'short_profile_bikes']\n",
      "['day', 'weekhour', 'windMeanSpeed.m.s', 'short_profile_3h_diff_bikes', 'short_profile_bikes']\n",
      "['day', 'weekhour', 'windMeanSpeed.m.s', 'short_profile_3h_diff_bikes', 'short_profile_bikes']\n",
      "['day', 'weekhour', 'windMeanSpeed.m.s', 'short_profile_3h_diff_bikes', 'short_profile_bikes']\n",
      "['day', 'weekhour', 'windMeanSpeed.m.s', 'short_profile_3h_diff_bikes', 'short_profile_bikes']\n",
      "['day', 'weekhour', 'windMeanSpeed.m.s', 'short_profile_3h_diff_bikes', 'short_profile_bikes']\n",
      "['day', 'weekhour', 'windMeanSpeed.m.s', 'short_profile_3h_diff_bikes', 'short_profile_bikes']\n",
      "['day', 'weekhour', 'windMeanSpeed.m.s', 'short_profile_3h_diff_bikes', 'short_profile_bikes']\n",
      "['day', 'weekhour', 'windMeanSpeed.m.s', 'short_profile_3h_diff_bikes', 'short_profile_bikes']\n",
      "['day', 'weekhour', 'windMeanSpeed.m.s', 'short_profile_3h_diff_bikes', 'short_profile_bikes']\n",
      "['day', 'weekhour', 'windMeanSpeed.m.s', 'short_profile_3h_diff_bikes', 'short_profile_bikes']\n",
      "['day', 'weekhour', 'windMeanSpeed.m.s', 'short_profile_3h_diff_bikes', 'short_profile_bikes']\n",
      "['day', 'weekhour', 'windMeanSpeed.m.s', 'short_profile_3h_diff_bikes', 'short_profile_bikes']\n",
      "['day', 'weekhour', 'windMeanSpeed.m.s', 'short_profile_3h_diff_bikes', 'short_profile_bikes']\n",
      "['day', 'weekhour', 'windMeanSpeed.m.s', 'short_profile_3h_diff_bikes', 'short_profile_bikes']\n",
      "['day', 'weekhour', 'windMeanSpeed.m.s', 'short_profile_3h_diff_bikes', 'short_profile_bikes']\n",
      "['day', 'weekhour', 'windMeanSpeed.m.s', 'short_profile_3h_diff_bikes', 'short_profile_bikes']\n",
      "['day', 'weekhour', 'windMeanSpeed.m.s', 'short_profile_3h_diff_bikes', 'short_profile_bikes']\n",
      "['day', 'weekhour', 'windMeanSpeed.m.s', 'short_profile_3h_diff_bikes', 'short_profile_bikes']\n",
      "['day', 'weekhour', 'windMeanSpeed.m.s', 'short_profile_3h_diff_bikes', 'short_profile_bikes']\n",
      "['day', 'weekhour', 'windMeanSpeed.m.s', 'short_profile_3h_diff_bikes', 'short_profile_bikes']\n",
      "['day', 'weekhour', 'windMeanSpeed.m.s', 'short_profile_3h_diff_bikes', 'short_profile_bikes']\n",
      "['day', 'weekhour', 'windMeanSpeed.m.s', 'short_profile_3h_diff_bikes', 'short_profile_bikes']\n",
      "['day', 'weekhour', 'windMeanSpeed.m.s', 'short_profile_3h_diff_bikes', 'short_profile_bikes']\n",
      "['day', 'weekhour', 'windMeanSpeed.m.s', 'short_profile_3h_diff_bikes', 'short_profile_bikes']\n",
      "['day', 'weekhour', 'windMeanSpeed.m.s', 'short_profile_3h_diff_bikes', 'short_profile_bikes']\n",
      "['day', 'weekhour', 'windMeanSpeed.m.s', 'short_profile_3h_diff_bikes', 'short_profile_bikes']\n",
      "['day', 'weekhour', 'windMeanSpeed.m.s', 'short_profile_3h_diff_bikes', 'short_profile_bikes']\n",
      "['day', 'weekhour', 'windMeanSpeed.m.s', 'short_profile_3h_diff_bikes', 'short_profile_bikes']\n",
      "['day', 'weekhour', 'windMeanSpeed.m.s', 'short_profile_3h_diff_bikes', 'short_profile_bikes']\n",
      "['day', 'weekhour', 'windMeanSpeed.m.s', 'short_profile_3h_diff_bikes', 'short_profile_bikes']\n",
      "['day', 'weekhour', 'windMeanSpeed.m.s', 'short_profile_3h_diff_bikes', 'short_profile_bikes']\n",
      "['day', 'weekhour', 'windMeanSpeed.m.s', 'short_profile_3h_diff_bikes', 'short_profile_bikes']\n",
      "['day', 'weekhour', 'windMeanSpeed.m.s', 'short_profile_3h_diff_bikes', 'short_profile_bikes']\n",
      "['day', 'weekhour', 'windMeanSpeed.m.s', 'short_profile_3h_diff_bikes', 'short_profile_bikes']\n",
      "['day', 'weekhour', 'windMeanSpeed.m.s', 'short_profile_3h_diff_bikes', 'short_profile_bikes']\n",
      "['day', 'weekhour', 'windMeanSpeed.m.s', 'short_profile_3h_diff_bikes', 'short_profile_bikes']\n",
      "['day', 'weekhour', 'windMeanSpeed.m.s', 'short_profile_3h_diff_bikes', 'short_profile_bikes']\n",
      "['day', 'weekhour', 'windMeanSpeed.m.s', 'short_profile_3h_diff_bikes', 'short_profile_bikes']\n",
      "['day', 'weekhour', 'windMeanSpeed.m.s', 'short_profile_3h_diff_bikes', 'short_profile_bikes']\n",
      "['day', 'weekhour', 'windMeanSpeed.m.s', 'short_profile_3h_diff_bikes', 'short_profile_bikes']\n",
      "['day', 'weekhour', 'windMeanSpeed.m.s', 'short_profile_3h_diff_bikes', 'short_profile_bikes']\n",
      "['day', 'weekhour', 'windMeanSpeed.m.s', 'short_profile_3h_diff_bikes', 'short_profile_bikes']\n",
      "['day', 'weekhour', 'windMeanSpeed.m.s', 'short_profile_3h_diff_bikes', 'short_profile_bikes']\n",
      "['day', 'weekhour', 'windMeanSpeed.m.s', 'short_profile_3h_diff_bikes', 'short_profile_bikes']\n",
      "['day', 'weekhour', 'windMeanSpeed.m.s', 'short_profile_3h_diff_bikes', 'short_profile_bikes']\n",
      "['day', 'weekhour', 'windMeanSpeed.m.s', 'short_profile_3h_diff_bikes', 'short_profile_bikes']\n",
      "['day', 'weekhour', 'windMeanSpeed.m.s', 'short_profile_3h_diff_bikes', 'short_profile_bikes']\n",
      "['day', 'weekhour', 'windMeanSpeed.m.s', 'short_profile_3h_diff_bikes', 'short_profile_bikes']\n",
      "['day', 'weekhour', 'windMeanSpeed.m.s', 'short_profile_3h_diff_bikes', 'short_profile_bikes']\n",
      "['day', 'weekhour', 'windMeanSpeed.m.s', 'short_profile_3h_diff_bikes', 'short_profile_bikes']\n",
      "['day', 'weekhour', 'windMeanSpeed.m.s', 'short_profile_3h_diff_bikes', 'short_profile_bikes']\n",
      "['day', 'weekhour', 'windMeanSpeed.m.s', 'short_profile_3h_diff_bikes', 'short_profile_bikes']\n",
      "['day', 'weekhour', 'windMeanSpeed.m.s', 'short_profile_3h_diff_bikes', 'short_profile_bikes']\n",
      "['day', 'weekhour', 'windMeanSpeed.m.s', 'short_profile_3h_diff_bikes', 'short_profile_bikes']\n",
      "['day', 'weekhour', 'windMeanSpeed.m.s', 'short_profile_3h_diff_bikes', 'short_profile_bikes']\n",
      "['day', 'weekhour', 'windMeanSpeed.m.s', 'short_profile_3h_diff_bikes', 'short_profile_bikes']\n",
      "['day', 'weekhour', 'windMeanSpeed.m.s', 'short_profile_3h_diff_bikes', 'short_profile_bikes']\n",
      "['day', 'weekhour', 'windMeanSpeed.m.s', 'short_profile_3h_diff_bikes', 'short_profile_bikes']\n",
      "['day', 'weekhour', 'windMeanSpeed.m.s', 'short_profile_3h_diff_bikes', 'short_profile_bikes']\n"
     ]
    },
    {
     "data": {
      "text/plain": "<Figure size 432x288 with 2 Axes>",
      "image/png": "[encoded data removed]"
     },
     "metadata": {
      "needs_background": "light"
     },
     "output_type": "display_data"
    }
   ],
   "source": [
    "#find inter-feature correlation\n",
    "\n",
    "sns.heatmap(df[4].corr(), vmin=-1.0, vmax=1.0)\n",
    "\n",
    "for i in range(len(df)):\n",
    "    dropped = high_correl(df[i], 0.95)\n",
    "    print(dropped)"
   ]
  },
  {
   "cell_type": "code",
   "execution_count": 34,
   "outputs": [
    {
     "data": {
      "text/plain": "     station   latitude  longitude  numDocks     timestamp  year  month  day  \\\n0        254  39.489255  -0.393181        24  1.412114e+09  2014     10    1   \n1        254  39.489255  -0.393181        24  1.412118e+09  2014     10    1   \n2        254  39.489255  -0.393181        24  1.412122e+09  2014     10    1   \n3        254  39.489255  -0.393181        24  1.412125e+09  2014     10    1   \n4        254  39.489255  -0.393181        24  1.412129e+09  2014     10    1   \n..       ...        ...        ...       ...           ...   ...    ...  ...   \n740      254  39.489255  -0.393181        24  1.414778e+09  2014     10   31   \n741      254  39.489255  -0.393181        24  1.414782e+09  2014     10   31   \n742      254  39.489255  -0.393181        24  1.414786e+09  2014     10   31   \n743      254  39.489255  -0.393181        24  1.414789e+09  2014     10   31   \n744      254  39.489255  -0.393181        24  1.414793e+09  2014     10   31   \n\n     hour    weekday  ...  temperature.C  relHumidity.HR  airPressure.mb  \\\n0       0  Wednesday  ...           21.3            85.0           855.3   \n1       1  Wednesday  ...           21.1            86.0          1000.6   \n2       2  Wednesday  ...           20.9            86.0           880.6   \n3       3  Wednesday  ...           20.4            88.0           859.8   \n4       4  Wednesday  ...           20.3            87.0           898.1   \n..    ...        ...  ...            ...             ...             ...   \n740    19     Friday  ...           20.2            80.0          1023.5   \n741    20     Friday  ...           20.2            82.0          1023.9   \n742    21     Friday  ...           20.0            83.0          1024.0   \n743    22     Friday  ...           19.3            84.0          1024.4   \n744    23     Friday  ...           19.1            86.0          1024.1   \n\n     precipitation.l.m2  bikes_3h_ago  full_profile_3h_diff_bikes  \\\n0                   0.0           NaN                         NaN   \n1                   0.0           NaN                         NaN   \n2                   0.0           NaN                         NaN   \n3                   0.0          12.0                         NaN   \n4                   0.0          12.0                         NaN   \n..                  ...           ...                         ...   \n740                 0.0          17.0                        -2.0   \n741                 0.0          16.0                         3.0   \n742                 0.0          14.0                         0.5   \n743                 0.0          10.0                        -3.0   \n744                 0.0           8.0                        -5.5   \n\n     full_profile_bikes  short_profile_3h_diff_bikes  short_profile_bikes  \\\n0                   NaN                          NaN                  NaN   \n1                   NaN                          NaN                  NaN   \n2                   NaN                          NaN                  NaN   \n3                   NaN                          NaN                  NaN   \n4                   NaN                          NaN                  NaN   \n..                  ...                          ...                  ...   \n740                6.25                         -2.0                 6.25   \n741                8.25                          3.0                 8.25   \n742                5.25                          0.5                 5.25   \n743                3.25                         -3.0                 3.25   \n744                2.75                         -5.5                 2.75   \n\n     bikes  \n0     12.0  \n1     12.0  \n2     13.0  \n3     14.0  \n4     14.0  \n..     ...  \n740   10.0  \n741    8.0  \n742    6.0  \n743    7.0  \n744    8.0  \n\n[745 rows x 25 columns]",
      "text/html": "<div>\n<style scoped>\n    .dataframe tbody tr th:only-of-type {\n        vertical-align: middle;\n    }\n\n    .dataframe tbody tr th {\n        vertical-align: top;\n    }\n\n    .dataframe thead th {\n        text-align: right;\n    }\n</style>\n<table border=\"1\" class=\"dataframe\">\n  <thead>\n    <tr style=\"text-align: right;\">\n      <th></th>\n      <th>station</th>\n      <th>latitude</th>\n      <th>longitude</th>\n      <th>numDocks</th>\n      <th>timestamp</th>\n      <th>year</th>\n      <th>month</th>\n      <th>day</th>\n      <th>hour</th>\n      <th>weekday</th>\n      <th>...</th>\n      <th>temperature.C</th>\n      <th>relHumidity.HR</th>\n      <th>airPressure.mb</th>\n      <th>precipitation.l.m2</th>\n      <th>bikes_3h_ago</th>\n      <th>full_profile_3h_diff_bikes</th>\n      <th>full_profile_bikes</th>\n      <th>short_profile_3h_diff_bikes</th>\n      <th>short_profile_bikes</th>\n      <th>bikes</th>\n    </tr>\n  </thead>\n  <tbody>\n    <tr>\n      <th>0</th>\n      <td>254</td>\n      <td>39.489255</td>\n      <td>-0.393181</td>\n      <td>24</td>\n      <td>1.412114e+09</td>\n      <td>2014</td>\n      <td>10</td>\n      <td>1</td>\n      <td>0</td>\n      <td>Wednesday</td>\n      <td>...</td>\n      <td>21.3</td>\n      <td>85.0</td>\n      <td>855.3</td>\n      <td>0.0</td>\n      <td>NaN</td>\n      <td>NaN</td>\n      <td>NaN</td>\n      <td>NaN</td>\n      <td>NaN</td>\n      <td>12.0</td>\n    </tr>\n    <tr>\n      <th>1</th>\n      <td>254</td>\n      <td>39.489255</td>\n      <td>-0.393181</td>\n      <td>24</td>\n      <td>1.412118e+09</td>\n      <td>2014</td>\n      <td>10</td>\n      <td>1</td>\n      <td>1</td>\n      <td>Wednesday</td>\n      <td>...</td>\n      <td>21.1</td>\n      <td>86.0</td>\n      <td>1000.6</td>\n      <td>0.0</td>\n      <td>NaN</td>\n      <td>NaN</td>\n      <td>NaN</td>\n      <td>NaN</td>\n      <td>NaN</td>\n      <td>12.0</td>\n    </tr>\n    <tr>\n      <th>2</th>\n      <td>254</td>\n      <td>39.489255</td>\n      <td>-0.393181</td>\n      <td>24</td>\n      <td>1.412122e+09</td>\n      <td>2014</td>\n      <td>10</td>\n      <td>1</td>\n      <td>2</td>\n      <td>Wednesday</td>\n      <td>...</td>\n      <td>20.9</td>\n      <td>86.0</td>\n      <td>880.6</td>\n      <td>0.0</td>\n      <td>NaN</td>\n      <td>NaN</td>\n      <td>NaN</td>\n      <td>NaN</td>\n      <td>NaN</td>\n      <td>13.0</td>\n    </tr>\n    <tr>\n      <th>3</th>\n      <td>254</td>\n      <td>39.489255</td>\n      <td>-0.393181</td>\n      <td>24</td>\n      <td>1.412125e+09</td>\n      <td>2014</td>\n      <td>10</td>\n      <td>1</td>\n      <td>3</td>\n      <td>Wednesday</td>\n      <td>...</td>\n      <td>20.4</td>\n      <td>88.0</td>\n      <td>859.8</td>\n      <td>0.0</td>\n      <td>12.0</td>\n      <td>NaN</td>\n      <td>NaN</td>\n      <td>NaN</td>\n      <td>NaN</td>\n      <td>14.0</td>\n    </tr>\n    <tr>\n      <th>4</th>\n      <td>254</td>\n      <td>39.489255</td>\n      <td>-0.393181</td>\n      <td>24</td>\n      <td>1.412129e+09</td>\n      <td>2014</td>\n      <td>10</td>\n      <td>1</td>\n      <td>4</td>\n      <td>Wednesday</td>\n      <td>...</td>\n      <td>20.3</td>\n      <td>87.0</td>\n      <td>898.1</td>\n      <td>0.0</td>\n      <td>12.0</td>\n      <td>NaN</td>\n      <td>NaN</td>\n      <td>NaN</td>\n      <td>NaN</td>\n      <td>14.0</td>\n    </tr>\n    <tr>\n      <th>...</th>\n      <td>...</td>\n      <td>...</td>\n      <td>...</td>\n      <td>...</td>\n      <td>...</td>\n      <td>...</td>\n      <td>...</td>\n      <td>...</td>\n      <td>...</td>\n      <td>...</td>\n      <td>...</td>\n      <td>...</td>\n      <td>...</td>\n      <td>...</td>\n      <td>...</td>\n      <td>...</td>\n      <td>...</td>\n      <td>...</td>\n      <td>...</td>\n      <td>...</td>\n      <td>...</td>\n    </tr>\n    <tr>\n      <th>740</th>\n      <td>254</td>\n      <td>39.489255</td>\n      <td>-0.393181</td>\n      <td>24</td>\n      <td>1.414778e+09</td>\n      <td>2014</td>\n      <td>10</td>\n      <td>31</td>\n      <td>19</td>\n      <td>Friday</td>\n      <td>...</td>\n      <td>20.2</td>\n      <td>80.0</td>\n      <td>1023.5</td>\n      <td>0.0</td>\n      <td>17.0</td>\n      <td>-2.0</td>\n      <td>6.25</td>\n      <td>-2.0</td>\n      <td>6.25</td>\n      <td>10.0</td>\n    </tr>\n    <tr>\n      <th>741</th>\n      <td>254</td>\n      <td>39.489255</td>\n      <td>-0.393181</td>\n      <td>24</td>\n      <td>1.414782e+09</td>\n      <td>2014</td>\n      <td>10</td>\n      <td>31</td>\n      <td>20</td>\n      <td>Friday</td>\n      <td>...</td>\n      <td>20.2</td>\n      <td>82.0</td>\n      <td>1023.9</td>\n      <td>0.0</td>\n      <td>16.0</td>\n      <td>3.0</td>\n      <td>8.25</td>\n      <td>3.0</td>\n      <td>8.25</td>\n      <td>8.0</td>\n    </tr>\n    <tr>\n      <th>742</th>\n      <td>254</td>\n      <td>39.489255</td>\n      <td>-0.393181</td>\n      <td>24</td>\n      <td>1.414786e+09</td>\n      <td>2014</td>\n      <td>10</td>\n      <td>31</td>\n      <td>21</td>\n      <td>Friday</td>\n      <td>...</td>\n      <td>20.0</td>\n      <td>83.0</td>\n      <td>1024.0</td>\n      <td>0.0</td>\n      <td>14.0</td>\n      <td>0.5</td>\n      <td>5.25</td>\n      <td>0.5</td>\n      <td>5.25</td>\n      <td>6.0</td>\n    </tr>\n    <tr>\n      <th>743</th>\n      <td>254</td>\n      <td>39.489255</td>\n      <td>-0.393181</td>\n      <td>24</td>\n      <td>1.414789e+09</td>\n      <td>2014</td>\n      <td>10</td>\n      <td>31</td>\n      <td>22</td>\n      <td>Friday</td>\n      <td>...</td>\n      <td>19.3</td>\n      <td>84.0</td>\n      <td>1024.4</td>\n      <td>0.0</td>\n      <td>10.0</td>\n      <td>-3.0</td>\n      <td>3.25</td>\n      <td>-3.0</td>\n      <td>3.25</td>\n      <td>7.0</td>\n    </tr>\n    <tr>\n      <th>744</th>\n      <td>254</td>\n      <td>39.489255</td>\n      <td>-0.393181</td>\n      <td>24</td>\n      <td>1.414793e+09</td>\n      <td>2014</td>\n      <td>10</td>\n      <td>31</td>\n      <td>23</td>\n      <td>Friday</td>\n      <td>...</td>\n      <td>19.1</td>\n      <td>86.0</td>\n      <td>1024.1</td>\n      <td>0.0</td>\n      <td>8.0</td>\n      <td>-5.5</td>\n      <td>2.75</td>\n      <td>-5.5</td>\n      <td>2.75</td>\n      <td>8.0</td>\n    </tr>\n  </tbody>\n</table>\n<p>745 rows × 25 columns</p>\n</div>"
     },
     "execution_count": 34,
     "metadata": {},
     "output_type": "execute_result"
    }
   ],
   "source": [
    "df[56]"
   ],
   "metadata": {
    "collapsed": false,
    "pycharm": {
     "name": "#%%\n"
    }
   }
  },
  {
   "cell_type": "code",
   "execution_count": 24,
   "metadata": {
    "pycharm": {
     "name": "#%%\n"
    }
   },
   "outputs": [
    {
     "data": {
      "text/plain": "[0.7214017165724391,\n 0.22527896092476907,\n 0.4742689533888972,\n 0.7290704662045299,\n 0.3504748377524052,\n 0.35941745419045223,\n 0.5951169336184153,\n 0.26500738463480733,\n 0.6540598846419605,\n 0.4167959191031382,\n 0.527090159317232,\n 0.267794033417032,\n 0.5651047477660329,\n 0.5894971773293498,\n 0.4331872858088611,\n 0.5758643996553772,\n 0.3705592841193187,\n 0.6358087268435766,\n 0.5899927521414698,\n 0.28146259877548785,\n 0.6341297677500699,\n 0.673596316402316,\n 0.7088101844516241,\n 0.4772784303422466,\n 0.7290592128920066,\n 0.5859843125343334,\n 0.45433429573872874,\n 0.5708145346829321,\n 0.6083864569501336,\n 0.587318529941564,\n 0.509219483792519,\n 0.45462921544309265,\n 0.6379644791576147,\n 0.7556457517417607,\n 0.44881962322920865,\n 0.37290276309607395,\n 0.523169927846279,\n 0.702389217086922,\n 0.7570761896743758,\n 0.46173026276109086,\n 0.6082828411721244,\n 0.38459192072204695,\n 0.39816755812747384,\n 0.36249546426481505,\n 0.30145961042182323,\n 0.5963150183453694,\n 0.4967104218498247,\n 0.16732555620339928,\n 0.3562985177818455,\n 0.8171368407286477,\n 0.4424690600074095,\n 0.700577347456319,\n 0.610742646003267,\n 0.7856573078158113,\n 0.8044521619811671,\n 0.4377576262863979,\n 0.5827270063026002,\n 0.31669354555864804,\n 0.3786788076531321,\n 0.6380006774451412,\n 0.6047224201115824,\n 0.6056237311024797,\n 0.5917822043624164,\n 0.6555881122316185,\n 0.7053006241531228,\n 0.3394663732089307,\n 0.914770733284393,\n 0.5685331482324132,\n 0.3054797377724233,\n 0.5097826579931278,\n 0.5170921695575712,\n 0.4075024273576314,\n 0.38041179289765725,\n 0.5946199028727726,\n 0.16907047760267246]"
     },
     "execution_count": 24,
     "metadata": {},
     "output_type": "execute_result"
    }
   ],
   "source": [
    "score = []\n",
    "X = []\n",
    "Y = []\n",
    "\n",
    "#store features and target in two different dataframes\n",
    "for i in range(len(df)):\n",
    "    X.append(df[i].loc[:, df[i].columns != 'bikes'])\n",
    "    Y.append(df[i]['bikes'])\n",
    "    #instantiate the model\n",
    "    model = linear_model.LinearRegression()\n",
    "    #model = RandomForestRegressor()\n",
    "    #split into train and test data\n",
    "    X_train, X_test, Y_train, Y_test = train_test_split(X[i], Y[i])\n",
    "    model.fit(X_train, Y_train)\n",
    "    \n",
    "    #calculate the score    \n",
    "    score.append(model.score(X_test, Y_test))\n",
    "\n",
    "#calculate the mean score\n",
    "score"
   ]
  },
  {
   "cell_type": "code",
   "execution_count": null,
   "metadata": {
    "pycharm": {
     "name": "#%%\n"
    }
   },
   "outputs": [],
   "source": [
    "a = scatter_matrix(df[1], figsize=(20,20));\n",
    "[s.xaxis.label.set_rotation(45) for s in a.reshape(-1)]\n",
    "[s.yaxis.label.set_rotation(0) for s in a.reshape(-1)]\n",
    "\n",
    "plt.savefig('figure.png')"
   ]
  },
  {
   "cell_type": "code",
   "execution_count": null,
   "metadata": {
    "pycharm": {
     "name": "#%%\n"
    }
   },
   "outputs": [],
   "source": []
  }
 ],
 "metadata": {
  "kernelspec": {
   "display_name": "Python 3",
   "language": "python",
   "name": "python3"
  },
  "language_info": {
   "codemirror_mode": {
    "name": "ipython",
    "version": 3
   },
   "file_extension": ".py",
   "mimetype": "text/x-python",
   "name": "python",
   "nbconvert_exporter": "python",
   "pygments_lexer": "ipython3",
   "version": "3.8.5"
  }
 },
 "nbformat": 4,
 "nbformat_minor": 4
}