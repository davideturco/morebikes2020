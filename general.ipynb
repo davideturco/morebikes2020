{
 "cells": [
  {
   "cell_type": "code",
   "execution_count": 1,
   "metadata": {
    "collapsed": true
   },
   "outputs": [],
   "source": [
    "import glob\n",
    "import pandas as pd\n",
    "from pre_processing import *"
   ]
  },
  {
   "cell_type": "code",
   "execution_count": 4,
   "outputs": [
    {
     "data": {
      "text/plain": "(True,\n station                            0\n latitude                           0\n longitude                          0\n numDocks                           0\n timestamp                          0\n year                               0\n month                              0\n day                                0\n hour                               0\n weekday                            0\n weekhour                           0\n isHoliday                          0\n windMaxSpeed.m.s                   0\n windMeanSpeed.m.s                  0\n windDirection.grades             300\n temperature.C                      0\n relHumidity.HR                     0\n airPressure.mb                     0\n precipitation.l.m2                 0\n bikes_3h_ago                     300\n full_profile_3h_diff_bikes     12825\n full_profile_bikes             12600\n short_profile_3h_diff_bikes    12825\n short_profile_bikes            12600\n bikes                              0\n dtype: int64)"
     },
     "execution_count": 4,
     "metadata": {},
     "output_type": "execute_result"
    }
   ],
   "source": [
    "PATH = './Train/Train/*.csv'\n",
    "\n",
    "indiv_df = []\n",
    "\n",
    "for dataframe in glob.glob(PATH):\n",
    "    indiv_df.append(pd.read_csv(dataframe))\n",
    "\n",
    "#create a dataframe for all the stations\n",
    "df = pd.concat(indiv_df, ignore_index=True)\n",
    "\n",
    "df = drop_nan_bikes(df)\n",
    "\n",
    "has_nan(df)"
   ],
   "metadata": {
    "collapsed": false,
    "pycharm": {
     "name": "#%%\n"
    }
   }
  },
  {
   "cell_type": "code",
   "execution_count": 3,
   "outputs": [
    {
     "data": {
      "text/plain": "       station   latitude  longitude  numDocks     timestamp  year  month  \\\n0          266  39.492946  -0.401981        15  1.412114e+09  2014     10   \n1          266  39.492946  -0.401981        15  1.412118e+09  2014     10   \n2          266  39.492946  -0.401981        15  1.412122e+09  2014     10   \n3          266  39.492946  -0.401981        15  1.412125e+09  2014     10   \n4          266  39.492946  -0.401981        15  1.412129e+09  2014     10   \n...        ...        ...        ...       ...           ...   ...    ...   \n55870      234  39.484848  -0.362137        18  1.414778e+09  2014     10   \n55871      234  39.484848  -0.362137        18  1.414782e+09  2014     10   \n55872      234  39.484848  -0.362137        18  1.414786e+09  2014     10   \n55873      234  39.484848  -0.362137        18  1.414789e+09  2014     10   \n55874      234  39.484848  -0.362137        18  1.414793e+09  2014     10   \n\n       day  hour    weekday  ...  temperature.C  relHumidity.HR  \\\n0        1     0  Wednesday  ...           21.3            85.0   \n1        1     1  Wednesday  ...           21.1            86.0   \n2        1     2  Wednesday  ...           20.9            86.0   \n3        1     3  Wednesday  ...           20.4            88.0   \n4        1     4  Wednesday  ...           20.3            87.0   \n...    ...   ...        ...  ...            ...             ...   \n55870   31    19     Friday  ...           20.2            80.0   \n55871   31    20     Friday  ...           20.2            82.0   \n55872   31    21     Friday  ...           20.0            83.0   \n55873   31    22     Friday  ...           19.3            84.0   \n55874   31    23     Friday  ...           19.1            86.0   \n\n       airPressure.mb  precipitation.l.m2  bikes_3h_ago  \\\n0               855.3                 0.0           NaN   \n1              1000.6                 0.0           NaN   \n2               880.6                 0.0           NaN   \n3               859.8                 0.0           5.0   \n4               898.1                 0.0           6.0   \n...               ...                 ...           ...   \n55870          1023.5                 0.0           4.0   \n55871          1023.9                 0.0          11.0   \n55872          1024.0                 0.0          17.0   \n55873          1024.4                 0.0          17.0   \n55874          1024.1                 0.0          13.0   \n\n       full_profile_3h_diff_bikes  full_profile_bikes  \\\n0                             NaN                 NaN   \n1                             NaN                 NaN   \n2                             NaN                 NaN   \n3                             NaN                 NaN   \n4                             NaN                 NaN   \n...                           ...                 ...   \n55870                        7.00               15.25   \n55871                        8.75               16.25   \n55872                        2.25               14.00   \n55873                       -0.50               14.75   \n55874                       -3.25               13.00   \n\n       short_profile_3h_diff_bikes  short_profile_bikes  bikes  \n0                              NaN                  NaN    5.0  \n1                              NaN                  NaN    6.0  \n2                              NaN                  NaN    5.0  \n3                              NaN                  NaN    5.0  \n4                              NaN                  NaN    5.0  \n...                            ...                  ...    ...  \n55870                         7.00                15.25   17.0  \n55871                         8.75                16.25   13.0  \n55872                         2.25                14.00   15.0  \n55873                        -0.50                14.75   17.0  \n55874                        -3.25                13.00   14.0  \n\n[55875 rows x 25 columns]",
      "text/html": "<div>\n<style scoped>\n    .dataframe tbody tr th:only-of-type {\n        vertical-align: middle;\n    }\n\n    .dataframe tbody tr th {\n        vertical-align: top;\n    }\n\n    .dataframe thead th {\n        text-align: right;\n    }\n</style>\n<table border=\"1\" class=\"dataframe\">\n  <thead>\n    <tr style=\"text-align: right;\">\n      <th></th>\n      <th>station</th>\n      <th>latitude</th>\n      <th>longitude</th>\n      <th>numDocks</th>\n      <th>timestamp</th>\n      <th>year</th>\n      <th>month</th>\n      <th>day</th>\n      <th>hour</th>\n      <th>weekday</th>\n      <th>...</th>\n      <th>temperature.C</th>\n      <th>relHumidity.HR</th>\n      <th>airPressure.mb</th>\n      <th>precipitation.l.m2</th>\n      <th>bikes_3h_ago</th>\n      <th>full_profile_3h_diff_bikes</th>\n      <th>full_profile_bikes</th>\n      <th>short_profile_3h_diff_bikes</th>\n      <th>short_profile_bikes</th>\n      <th>bikes</th>\n    </tr>\n  </thead>\n  <tbody>\n    <tr>\n      <th>0</th>\n      <td>266</td>\n      <td>39.492946</td>\n      <td>-0.401981</td>\n      <td>15</td>\n      <td>1.412114e+09</td>\n      <td>2014</td>\n      <td>10</td>\n      <td>1</td>\n      <td>0</td>\n      <td>Wednesday</td>\n      <td>...</td>\n      <td>21.3</td>\n      <td>85.0</td>\n      <td>855.3</td>\n      <td>0.0</td>\n      <td>NaN</td>\n      <td>NaN</td>\n      <td>NaN</td>\n      <td>NaN</td>\n      <td>NaN</td>\n      <td>5.0</td>\n    </tr>\n    <tr>\n      <th>1</th>\n      <td>266</td>\n      <td>39.492946</td>\n      <td>-0.401981</td>\n      <td>15</td>\n      <td>1.412118e+09</td>\n      <td>2014</td>\n      <td>10</td>\n      <td>1</td>\n      <td>1</td>\n      <td>Wednesday</td>\n      <td>...</td>\n      <td>21.1</td>\n      <td>86.0</td>\n      <td>1000.6</td>\n      <td>0.0</td>\n      <td>NaN</td>\n      <td>NaN</td>\n      <td>NaN</td>\n      <td>NaN</td>\n      <td>NaN</td>\n      <td>6.0</td>\n    </tr>\n    <tr>\n      <th>2</th>\n      <td>266</td>\n      <td>39.492946</td>\n      <td>-0.401981</td>\n      <td>15</td>\n      <td>1.412122e+09</td>\n      <td>2014</td>\n      <td>10</td>\n      <td>1</td>\n      <td>2</td>\n      <td>Wednesday</td>\n      <td>...</td>\n      <td>20.9</td>\n      <td>86.0</td>\n      <td>880.6</td>\n      <td>0.0</td>\n      <td>NaN</td>\n      <td>NaN</td>\n      <td>NaN</td>\n      <td>NaN</td>\n      <td>NaN</td>\n      <td>5.0</td>\n    </tr>\n    <tr>\n      <th>3</th>\n      <td>266</td>\n      <td>39.492946</td>\n      <td>-0.401981</td>\n      <td>15</td>\n      <td>1.412125e+09</td>\n      <td>2014</td>\n      <td>10</td>\n      <td>1</td>\n      <td>3</td>\n      <td>Wednesday</td>\n      <td>...</td>\n      <td>20.4</td>\n      <td>88.0</td>\n      <td>859.8</td>\n      <td>0.0</td>\n      <td>5.0</td>\n      <td>NaN</td>\n      <td>NaN</td>\n      <td>NaN</td>\n      <td>NaN</td>\n      <td>5.0</td>\n    </tr>\n    <tr>\n      <th>4</th>\n      <td>266</td>\n      <td>39.492946</td>\n      <td>-0.401981</td>\n      <td>15</td>\n      <td>1.412129e+09</td>\n      <td>2014</td>\n      <td>10</td>\n      <td>1</td>\n      <td>4</td>\n      <td>Wednesday</td>\n      <td>...</td>\n      <td>20.3</td>\n      <td>87.0</td>\n      <td>898.1</td>\n      <td>0.0</td>\n      <td>6.0</td>\n      <td>NaN</td>\n      <td>NaN</td>\n      <td>NaN</td>\n      <td>NaN</td>\n      <td>5.0</td>\n    </tr>\n    <tr>\n      <th>...</th>\n      <td>...</td>\n      <td>...</td>\n      <td>...</td>\n      <td>...</td>\n      <td>...</td>\n      <td>...</td>\n      <td>...</td>\n      <td>...</td>\n      <td>...</td>\n      <td>...</td>\n      <td>...</td>\n      <td>...</td>\n      <td>...</td>\n      <td>...</td>\n      <td>...</td>\n      <td>...</td>\n      <td>...</td>\n      <td>...</td>\n      <td>...</td>\n      <td>...</td>\n      <td>...</td>\n    </tr>\n    <tr>\n      <th>55870</th>\n      <td>234</td>\n      <td>39.484848</td>\n      <td>-0.362137</td>\n      <td>18</td>\n      <td>1.414778e+09</td>\n      <td>2014</td>\n      <td>10</td>\n      <td>31</td>\n      <td>19</td>\n      <td>Friday</td>\n      <td>...</td>\n      <td>20.2</td>\n      <td>80.0</td>\n      <td>1023.5</td>\n      <td>0.0</td>\n      <td>4.0</td>\n      <td>7.00</td>\n      <td>15.25</td>\n      <td>7.00</td>\n      <td>15.25</td>\n      <td>17.0</td>\n    </tr>\n    <tr>\n      <th>55871</th>\n      <td>234</td>\n      <td>39.484848</td>\n      <td>-0.362137</td>\n      <td>18</td>\n      <td>1.414782e+09</td>\n      <td>2014</td>\n      <td>10</td>\n      <td>31</td>\n      <td>20</td>\n      <td>Friday</td>\n      <td>...</td>\n      <td>20.2</td>\n      <td>82.0</td>\n      <td>1023.9</td>\n      <td>0.0</td>\n      <td>11.0</td>\n      <td>8.75</td>\n      <td>16.25</td>\n      <td>8.75</td>\n      <td>16.25</td>\n      <td>13.0</td>\n    </tr>\n    <tr>\n      <th>55872</th>\n      <td>234</td>\n      <td>39.484848</td>\n      <td>-0.362137</td>\n      <td>18</td>\n      <td>1.414786e+09</td>\n      <td>2014</td>\n      <td>10</td>\n      <td>31</td>\n      <td>21</td>\n      <td>Friday</td>\n      <td>...</td>\n      <td>20.0</td>\n      <td>83.0</td>\n      <td>1024.0</td>\n      <td>0.0</td>\n      <td>17.0</td>\n      <td>2.25</td>\n      <td>14.00</td>\n      <td>2.25</td>\n      <td>14.00</td>\n      <td>15.0</td>\n    </tr>\n    <tr>\n      <th>55873</th>\n      <td>234</td>\n      <td>39.484848</td>\n      <td>-0.362137</td>\n      <td>18</td>\n      <td>1.414789e+09</td>\n      <td>2014</td>\n      <td>10</td>\n      <td>31</td>\n      <td>22</td>\n      <td>Friday</td>\n      <td>...</td>\n      <td>19.3</td>\n      <td>84.0</td>\n      <td>1024.4</td>\n      <td>0.0</td>\n      <td>17.0</td>\n      <td>-0.50</td>\n      <td>14.75</td>\n      <td>-0.50</td>\n      <td>14.75</td>\n      <td>17.0</td>\n    </tr>\n    <tr>\n      <th>55874</th>\n      <td>234</td>\n      <td>39.484848</td>\n      <td>-0.362137</td>\n      <td>18</td>\n      <td>1.414793e+09</td>\n      <td>2014</td>\n      <td>10</td>\n      <td>31</td>\n      <td>23</td>\n      <td>Friday</td>\n      <td>...</td>\n      <td>19.1</td>\n      <td>86.0</td>\n      <td>1024.1</td>\n      <td>0.0</td>\n      <td>13.0</td>\n      <td>-3.25</td>\n      <td>13.00</td>\n      <td>-3.25</td>\n      <td>13.00</td>\n      <td>14.0</td>\n    </tr>\n  </tbody>\n</table>\n<p>55875 rows × 25 columns</p>\n</div>"
     },
     "execution_count": 3,
     "metadata": {},
     "output_type": "execute_result"
    }
   ],
   "source": [
    "df"
   ],
   "metadata": {
    "collapsed": false,
    "pycharm": {
     "name": "#%%\n"
    }
   }
  },
  {
   "cell_type": "code",
   "execution_count": null,
   "outputs": [],
   "source": [],
   "metadata": {
    "collapsed": false,
    "pycharm": {
     "name": "#%%\n"
    }
   }
  }
 ],
 "metadata": {
  "kernelspec": {
   "display_name": "Python 3",
   "language": "python",
   "name": "python3"
  },
  "language_info": {
   "codemirror_mode": {
    "name": "ipython",
    "version": 2
   },
   "file_extension": ".py",
   "mimetype": "text/x-python",
   "name": "python",
   "nbconvert_exporter": "python",
   "pygments_lexer": "ipython2",
   "version": "2.7.6"
  }
 },
 "nbformat": 4,
 "nbformat_minor": 0
}