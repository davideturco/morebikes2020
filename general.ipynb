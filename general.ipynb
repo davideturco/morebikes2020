{
 "cells": [
  {
   "cell_type": "code",
   "execution_count": 2,
   "metadata": {
    "collapsed": true
   },
   "outputs": [],
   "source": [
    "import glob\n",
    "import pandas as pd\n",
    "from pre_processing import *"
   ]
  },
  {
   "cell_type": "code",
   "execution_count": 6,
   "outputs": [
    {
     "data": {
      "text/plain": "(True,\n station                            0\n latitude                           0\n longitude                          0\n numDocks                           0\n timestamp                          0\n year                               0\n month                              0\n day                                0\n hour                               0\n weekday                            0\n weekhour                           0\n isHoliday                          0\n windMaxSpeed.m.s                  75\n windMeanSpeed.m.s                 75\n windDirection.grades             375\n temperature.C                     75\n relHumidity.HR                    75\n airPressure.mb                    75\n precipitation.l.m2                75\n bikes_3h_ago                     300\n full_profile_3h_diff_bikes     12825\n full_profile_bikes             12600\n short_profile_3h_diff_bikes    12825\n short_profile_bikes            12600\n bikes                             75\n dtype: int64)"
     },
     "execution_count": 6,
     "metadata": {},
     "output_type": "execute_result"
    }
   ],
   "source": [
    "PATH = './Train/Train'\n",
    "\n",
    "df = load_general(PATH)\n",
    "\n",
    "#df = drop_nan_bikes(df)\n",
    "\n",
    "has_nan(df)"
   ],
   "metadata": {
    "collapsed": false,
    "pycharm": {
     "name": "#%%\n"
    }
   }
  },
  {
   "cell_type": "code",
   "execution_count": 7,
   "outputs": [],
   "source": [],
   "metadata": {
    "collapsed": false,
    "pycharm": {
     "name": "#%%\n"
    }
   }
  },
  {
   "cell_type": "code",
   "execution_count": null,
   "outputs": [],
   "source": [],
   "metadata": {
    "collapsed": false,
    "pycharm": {
     "name": "#%%\n"
    }
   }
  }
 ],
 "metadata": {
  "kernelspec": {
   "display_name": "Python 3",
   "language": "python",
   "name": "python3"
  },
  "language_info": {
   "codemirror_mode": {
    "name": "ipython",
    "version": 2
   },
   "file_extension": ".py",
   "mimetype": "text/x-python",
   "name": "python",
   "nbconvert_exporter": "python",
   "pygments_lexer": "ipython2",
   "version": "2.7.6"
  }
 },
 "nbformat": 4,
 "nbformat_minor": 0
}